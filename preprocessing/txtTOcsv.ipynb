{
 "cells": [
  {
   "cell_type": "code",
   "execution_count": 2,
   "id": "initial_id",
   "metadata": {
    "collapsed": true,
    "ExecuteTime": {
     "end_time": "2024-04-29T18:06:06.845138Z",
     "start_time": "2024-04-29T18:06:06.814013Z"
    }
   },
   "outputs": [],
   "source": [
    "import pandas as pd\n",
    "train_df = pd.read_csv('../origindataset/train.txt', sep=\";\", names=[\"text\", \"emotion\"])\n",
    "val_df = pd.read_csv('../origindataset/val.txt', sep=\";\", names=[\"text\", \"emotion\"])\n",
    "test_df = pd.read_csv('../origindataset/test.txt', sep=\";\", names=[\"text\", \"emotion\"])"
   ]
  },
  {
   "cell_type": "code",
   "outputs": [
    {
     "data": {
      "text/plain": "(['sadness', 'anger', 'love', 'surprise', 'fear', 'joy'],\n ['sadness', 'love', 'anger', 'joy', 'fear', 'surprise'],\n ['sadness', 'joy', 'fear', 'anger', 'love', 'surprise'])"
     },
     "execution_count": 4,
     "metadata": {},
     "output_type": "execute_result"
    }
   ],
   "source": [
    "# 去除缺失值\n",
    "train_df = train_df.dropna()\n",
    "val_df = val_df.dropna()\n",
    "test_df = test_df.dropna()\n",
    "\n",
    "train_df.to_csv('../usedataset/train.csv', index=False)\n",
    "val_df.to_csv('../usedataset/val.csv', index=False)\n",
    "test_df.to_csv('../usedataset/test.csv', index=False)\n",
    "train_df.emotion.unique().tolist(), val_df.emotion.unique().tolist(), test_df.emotion.unique().tolist()"
   ],
   "metadata": {
    "collapsed": false,
    "ExecuteTime": {
     "end_time": "2024-04-29T18:07:13.584430Z",
     "start_time": "2024-04-29T18:07:13.531213Z"
    }
   },
   "id": "74e2707fe6ab5435",
   "execution_count": 4
  },
  {
   "cell_type": "code",
   "outputs": [],
   "source": [],
   "metadata": {
    "collapsed": false
   },
   "id": "8eae0b1b603cbd2f"
  }
 ],
 "metadata": {
  "kernelspec": {
   "display_name": "Python 3",
   "language": "python",
   "name": "python3"
  },
  "language_info": {
   "codemirror_mode": {
    "name": "ipython",
    "version": 2
   },
   "file_extension": ".py",
   "mimetype": "text/x-python",
   "name": "python",
   "nbconvert_exporter": "python",
   "pygments_lexer": "ipython2",
   "version": "2.7.6"
  }
 },
 "nbformat": 4,
 "nbformat_minor": 5
}
